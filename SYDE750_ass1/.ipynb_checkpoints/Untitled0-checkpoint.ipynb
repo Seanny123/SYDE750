{
 "metadata": {
  "name": "",
  "signature": "sha256:bbcfa755b855303e337da59d55bf64cd50302e41685cf7039bed2a0e2b5bb4b4"
 },
 "nbformat": 3,
 "nbformat_minor": 0,
 "worksheets": []
}